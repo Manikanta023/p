{
 "cells": [
  {
   "cell_type": "code",
   "execution_count": 53,
   "id": "27d407f7-48c3-4343-8447-45197bd5214d",
   "metadata": {},
   "outputs": [],
   "source": [
    "import pandas as pd\n",
    "import numpy as np\n",
    "from sklearn.svm import SVC\n",
    "from sklearn.metrics import accuracy_score\n",
    "from sklearn.metrics import classification_report\n",
    "from sklearn.preprocessing import StandardScaler\n"
   ]
  },
  {
   "cell_type": "code",
   "execution_count": 32,
   "id": "cceadaff-0611-45dd-8b62-36280e9abb00",
   "metadata": {},
   "outputs": [
    {
     "name": "stdout",
     "output_type": "stream",
     "text": [
      "Collecting classification\n",
      "  Downloading classification-0.1.0-py3-none-any.whl (4.4 kB)\n",
      "Installing collected packages: classification\n",
      "Successfully installed classification-0.1.0\n",
      "Note: you may need to restart the kernel to use updated packages.\n"
     ]
    }
   ],
   "source": [
    "pip install classification"
   ]
  },
  {
   "cell_type": "code",
   "execution_count": 7,
   "id": "867ad769-723e-4d93-9871-a2111ca2d459",
   "metadata": {},
   "outputs": [],
   "source": [
    "df=pd.read_csv('DATASET/SVM.csv')"
   ]
  },
  {
   "cell_type": "code",
   "execution_count": 11,
   "id": "e0cd09c4-c135-4313-8d95-944d8011faf5",
   "metadata": {},
   "outputs": [
    {
     "name": "stdout",
     "output_type": "stream",
     "text": [
      "      Id       RI     Na    Mg    Al    Si      K    Ca    Ba   Fe  Type\n",
      "0      1  1.52101  13.64  4.49  1.10  71.78  0.06  8.75  0.00  0.0     1\n",
      "1      2  1.51761  13.89  3.60  1.36  72.73  0.48  7.83  0.00  0.0     1\n",
      "2      3  1.51618  13.53  3.55  1.54  72.99  0.39  7.78  0.00  0.0     1\n",
      "3      4  1.51766  13.21  3.69  1.29  72.61  0.57  8.22  0.00  0.0     1\n",
      "4      5  1.51742  13.27  3.62  1.24  73.08  0.55  8.07  0.00  0.0     1\n",
      "..   ...      ...    ...   ...   ...    ...   ...   ...   ...  ...   ...\n",
      "209  210  1.51623  14.14  0.00  2.88  72.61  0.08  9.18  1.06  0.0     7\n",
      "210  211  1.51685  14.92  0.00  1.99  73.06  0.00  8.40  1.59  0.0     7\n",
      "211  212  1.52065  14.36  0.00  2.02  73.42  0.00  8.44  1.64  0.0     7\n",
      "212  213  1.51651  14.38  0.00  1.94  73.61  0.00  8.48  1.57  0.0     7\n",
      "213  214  1.51711  14.23  0.00  2.08  73.36  0.00  8.62  1.67  0.0     7\n",
      "\n",
      "[214 rows x 11 columns]\n"
     ]
    }
   ],
   "source": [
    "print(df)"
   ]
  },
  {
   "cell_type": "code",
   "execution_count": 15,
   "id": "f4def2ea-14b7-4e1f-bcd9-fe8ea74c97db",
   "metadata": {},
   "outputs": [],
   "source": [
    "X=df.drop('Type', axis=1)\n",
    "y=df['Type']"
   ]
  },
  {
   "cell_type": "code",
   "execution_count": 17,
   "id": "64d64465-200c-4952-8375-8e8aaa37aa05",
   "metadata": {},
   "outputs": [],
   "source": [
    "from sklearn.model_selection import train_test_split"
   ]
  },
  {
   "cell_type": "code",
   "execution_count": 18,
   "id": "9344ce64-0b42-41b5-82c7-be940cb0ed1a",
   "metadata": {},
   "outputs": [],
   "source": [
    "X_train,X_test,y_train,y_test=train_test_split(X,y,test_size=0.6,random_state=42)"
   ]
  },
  {
   "cell_type": "code",
   "execution_count": 37,
   "id": "c207fa80-b014-4bd1-af9c-779f71ff2d7a",
   "metadata": {},
   "outputs": [],
   "source": [
    "\n",
    "from sklearn.preprocessing import StandardScaler\n",
    "scaled= StandardScaler() \n",
    "x_train_scaled=scaled.fit_transform(X_train)\n",
    "x_test_scaled=scaled.transform(X_test)\n"
   ]
  },
  {
   "cell_type": "code",
   "execution_count": 48,
   "id": "5b2e80dc-2eaf-46bf-ad89-5c5d11f7f60f",
   "metadata": {},
   "outputs": [],
   "source": [
    "svc_rbf=SVC(kernel='rbf',C=1,gamma='auto')\n",
    "svc_rbf.fit(x_train_scaled,y_train)\n",
    "y_pred_rbf =svc_rbf.predict(x_test_scaled)"
   ]
  },
  {
   "cell_type": "code",
   "execution_count": 40,
   "id": "ea2df7b2-82bf-4f93-804b-a55fbceb52bb",
   "metadata": {},
   "outputs": [],
   "source": [
    "svm_poly=SVC(kernel='poly',C=1,degree=3)\n",
    "svm_poly.fit(x_train_scaled,y_train)\n",
    "svm_poly_pred=svm_poly.predict(x_test_scaled)"
   ]
  },
  {
   "cell_type": "code",
   "execution_count": 51,
   "id": "2cc14127-f2c3-4e37-baf0-e1bc1ce8762c",
   "metadata": {},
   "outputs": [
    {
     "ename": "NameError",
     "evalue": "name 'classification_report' is not defined",
     "output_type": "error",
     "traceback": [
      "\u001b[1;31m---------------------------------------------------------------------------\u001b[0m",
      "\u001b[1;31mNameError\u001b[0m                                 Traceback (most recent call last)",
      "Cell \u001b[1;32mIn[51], line 1\u001b[0m\n\u001b[1;32m----> 1\u001b[0m \u001b[38;5;28mprint\u001b[39m(\u001b[43mclassification_report\u001b[49m(y_test,y_pred_rbf))\n",
      "\u001b[1;31mNameError\u001b[0m: name 'classification_report' is not defined"
     ]
    }
   ],
   "source": [
    "from sklearn."
   ]
  },
  {
   "cell_type": "code",
   "execution_count": 54,
   "id": "215dafe4-8e0d-44cf-a5c0-55e42ca6e2a3",
   "metadata": {},
   "outputs": [
    {
     "name": "stdout",
     "output_type": "stream",
     "text": [
      "Accuracy (RBF): 0.8372093023255814\n",
      "Classification Report (RBF):\n",
      "               precision    recall  f1-score   support\n",
      "\n",
      "           1       1.00      0.98      0.99        42\n",
      "           2       0.72      1.00      0.83        48\n",
      "           3       1.00      0.09      0.17        11\n",
      "           5       1.00      0.25      0.40         8\n",
      "           6       1.00      0.33      0.50         6\n",
      "           7       0.88      1.00      0.93        14\n",
      "\n",
      "    accuracy                           0.84       129\n",
      "   macro avg       0.93      0.61      0.64       129\n",
      "weighted avg       0.88      0.84      0.80       129\n",
      "\n"
     ]
    }
   ],
   "source": [
    "print(\"Accuracy (RBF):\", accuracy_score(y_test, y_pred_rbf))\n",
    "print(\"Classification Report (RBF):\\n\", classification_report(y_test, y_pred_rbf))"
   ]
  },
  {
   "cell_type": "code",
   "execution_count": null,
   "id": "1d5823f9-1e51-4861-b11c-41dbb04927c8",
   "metadata": {},
   "outputs": [],
   "source": []
  }
 ],
 "metadata": {
  "kernelspec": {
   "display_name": "Python 3 (ipykernel)",
   "language": "python",
   "name": "python3"
  },
  "language_info": {
   "codemirror_mode": {
    "name": "ipython",
    "version": 3
   },
   "file_extension": ".py",
   "mimetype": "text/x-python",
   "name": "python",
   "nbconvert_exporter": "python",
   "pygments_lexer": "ipython3",
   "version": "3.11.5"
  }
 },
 "nbformat": 4,
 "nbformat_minor": 5
}
