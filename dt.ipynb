{
 "cells": [
  {
   "cell_type": "code",
   "execution_count": 5,
   "id": "769c35e7-566e-43d6-9166-59918da97097",
   "metadata": {},
   "outputs": [],
   "source": [
    "import pandas as pd\n",
    "import numpy as np\n",
    "from sklearn.model_selection import train_test_split\n",
    "from sklearn.tree import DecisionTreeClassifier\n",
    "from sklearn.metrics import accuracy_score\n",
    "from sklearn import tree"
   ]
  },
  {
   "cell_type": "code",
   "execution_count": 8,
   "id": "5a8f896f-248b-41dc-9b6d-8b768dfeb696",
   "metadata": {},
   "outputs": [
    {
     "name": "stdout",
     "output_type": "stream",
     "text": [
      "    1  0  0.1  1.1  0.2  0.3  1.2  1.3  1.4  1.5  0.4  0.5  4  0.6  0.7  1.6  \\\n",
      "0   1  0    0    1    0    0    0    1    1    1    0    0  4    1    0    1   \n",
      "1   0  0    1    0    0    1    1    1    1    0    0    1  0    1    0    0   \n",
      "2   1  0    0    1    0    0    1    1    1    1    0    0  4    0    0    1   \n",
      "3   1  0    0    1    0    0    1    1    1    1    0    0  4    1    0    1   \n",
      "4   1  0    0    1    0    0    0    1    1    1    0    0  4    1    0    1   \n",
      ".. .. ..  ...  ...  ...  ...  ...  ...  ...  ...  ...  ... ..  ...  ...  ...   \n",
      "95  1  0    0    1    0    0    0    1    1    1    0    0  2    1    0    1   \n",
      "96  1  0    1    0    1    0    0    0    0    1    1    0  6    0    0    0   \n",
      "97  1  0    0    1    0    0    1    1    1    1    0    0  4    1    0    1   \n",
      "98  0  0    1    0    0    0    0    0    0    1    0    0  0    0    0    0   \n",
      "99  0  1    1    0    1    0    0    0    1    1    0    0  2    1    0    0   \n",
      "\n",
      "    1.7  \n",
      "0     1  \n",
      "1     4  \n",
      "2     1  \n",
      "3     1  \n",
      "4     1  \n",
      "..  ...  \n",
      "95    1  \n",
      "96    6  \n",
      "97    1  \n",
      "98    7  \n",
      "99    2  \n",
      "\n",
      "[100 rows x 17 columns]\n"
     ]
    }
   ],
   "source": [
    "df= pd.read_csv('zoodata.csv')\n",
    "print(df)"
   ]
  },
  {
   "cell_type": "code",
   "execution_count": null,
   "id": "b7474f6b-7d93-41d3-bf2c-7a351b9f037e",
   "metadata": {},
   "outputs": [],
   "source": []
  },
  {
   "cell_type": "code",
   "execution_count": 5,
   "id": "183717b0-1282-49ba-90b8-4fd1dacc9fb4",
   "metadata": {},
   "outputs": [
    {
     "data": {
      "text/plain": [
       "'C:\\\\Users\\\\hp\\\\MLLAB'"
      ]
     },
     "execution_count": 5,
     "metadata": {},
     "output_type": "execute_result"
    }
   ],
   "source": [
    "pwd\n"
   ]
  },
  {
   "cell_type": "code",
   "execution_count": 18,
   "id": "cb6cbe87-b93d-45db-a0f6-2d174a61caf6",
   "metadata": {},
   "outputs": [],
   "source": [
    "# Function to calculate the Gini index\n",
    "def calculate_gini_index(groups, class_values):\n",
    "    gini_index = 0.0\n",
    "    total_instances = sum(len(group) for group in groups)\n",
    "    \n",
    "    for group in groups:\n",
    "        size = len(group)\n",
    "        if size == 0:\n",
    "            continue\n",
    "        score = 0.0\n",
    "        for class_value in class_values:\n",
    "            p = [row[-1] for row in group].count(class_value) / size\n",
    "            score += p * p\n",
    "        gini_index += (1.0 - score) * (size / total_instances)\n",
    "    \n",
    "    return gini_index\n"
   ]
  },
  {
   "cell_type": "code",
   "execution_count": 20,
   "id": "0cd2db22-4c59-465c-8513-6f31182f3995",
   "metadata": {},
   "outputs": [],
   "source": [
    "def test_split(index, value, dataset):\n",
    "    left, right = list(), list()\n",
    "    for row in dataset:\n",
    "        if row[index] < value:\n",
    "            left.append(row)\n",
    "        else:\n",
    "            right.append(row)\n",
    "    return left, right"
   ]
  },
  {
   "cell_type": "code",
   "execution_count": 21,
   "id": "75f0e7a6-339e-44cc-9b41-c66436a71100",
   "metadata": {},
   "outputs": [],
   "source": [
    "def get_split(dataset):\n",
    "    class_values = list(set(row[-1] for row in dataset))\n",
    "    best_index, best_value, best_score, best_groups = None, None, 1.0, None\n",
    "    \n",
    "    for index in range(len(dataset[0]) - 1):\n",
    "        for row in dataset:\n",
    "            groups = test_split(index, row[index], dataset)\n",
    "            gini = calculate_gini_index(groups, class_values)\n",
    "            if gini < best_score:\n",
    "                best_index, best_value, best_score, best_groups = index, row[index], gini, groups\n",
    "                \n",
    "    return {'index': best_index, 'value': best_value, 'groups': best_groups}\n",
    "\n"
   ]
  },
  {
   "cell_type": "code",
   "execution_count": 23,
   "id": "f7ac022c-c2ee-45cc-8142-f8ffd7d5cd8c",
   "metadata": {},
   "outputs": [
    {
     "name": "stdout",
     "output_type": "stream",
     "text": [
      "Split: [X4 < 1.000]\n"
     ]
    }
   ],
   "source": [
    "split = get_split(df.values)\n",
    "print('Split: [X%d < %.3f]' % ((split['index'] + 1), split['value']))\n"
   ]
  },
  {
   "cell_type": "code",
   "execution_count": 9,
   "id": "d839ba02-36ef-4731-b14d-90b25cec7b42",
   "metadata": {},
   "outputs": [],
   "source": [
    "X=df.iloc[:, :-1] \n",
    "Y=df.iloc[:,-1]"
   ]
  },
  {
   "cell_type": "code",
   "execution_count": 10,
   "id": "1fec3776-a72c-433e-a359-837ac18611be",
   "metadata": {},
   "outputs": [
    {
     "data": {
      "text/plain": [
       "(    1  0  0.1  1.1  0.2  0.3  1.2  1.3  1.4  1.5  0.4  0.5  4  0.6  0.7  1.6\n",
       " 0   1  0    0    1    0    0    0    1    1    1    0    0  4    1    0    1\n",
       " 1   0  0    1    0    0    1    1    1    1    0    0    1  0    1    0    0\n",
       " 2   1  0    0    1    0    0    1    1    1    1    0    0  4    0    0    1\n",
       " 3   1  0    0    1    0    0    1    1    1    1    0    0  4    1    0    1\n",
       " 4   1  0    0    1    0    0    0    1    1    1    0    0  4    1    0    1\n",
       " .. .. ..  ...  ...  ...  ...  ...  ...  ...  ...  ...  ... ..  ...  ...  ...\n",
       " 95  1  0    0    1    0    0    0    1    1    1    0    0  2    1    0    1\n",
       " 96  1  0    1    0    1    0    0    0    0    1    1    0  6    0    0    0\n",
       " 97  1  0    0    1    0    0    1    1    1    1    0    0  4    1    0    1\n",
       " 98  0  0    1    0    0    0    0    0    0    1    0    0  0    0    0    0\n",
       " 99  0  1    1    0    1    0    0    0    1    1    0    0  2    1    0    0\n",
       " \n",
       " [100 rows x 16 columns],\n",
       " 0     1\n",
       " 1     4\n",
       " 2     1\n",
       " 3     1\n",
       " 4     1\n",
       "      ..\n",
       " 95    1\n",
       " 96    6\n",
       " 97    1\n",
       " 98    7\n",
       " 99    2\n",
       " Name: 1.7, Length: 100, dtype: int64)"
      ]
     },
     "execution_count": 10,
     "metadata": {},
     "output_type": "execute_result"
    }
   ],
   "source": [
    "X,Y"
   ]
  },
  {
   "cell_type": "code",
   "execution_count": 12,
   "id": "42db78a4-a691-4894-a8a2-2848e801d754",
   "metadata": {},
   "outputs": [],
   "source": [
    "X_train,X_test,Y_train,Y_test=train_test_split(X,Y,test_size=0.3,random_state=42)"
   ]
  },
  {
   "cell_type": "code",
   "execution_count": 15,
   "id": "531d859b-8995-422a-8cff-b07aab349ff8",
   "metadata": {},
   "outputs": [
    {
     "data": {
      "text/html": [
       "<style>#sk-container-id-1 {color: black;}#sk-container-id-1 pre{padding: 0;}#sk-container-id-1 div.sk-toggleable {background-color: white;}#sk-container-id-1 label.sk-toggleable__label {cursor: pointer;display: block;width: 100%;margin-bottom: 0;padding: 0.3em;box-sizing: border-box;text-align: center;}#sk-container-id-1 label.sk-toggleable__label-arrow:before {content: \"▸\";float: left;margin-right: 0.25em;color: #696969;}#sk-container-id-1 label.sk-toggleable__label-arrow:hover:before {color: black;}#sk-container-id-1 div.sk-estimator:hover label.sk-toggleable__label-arrow:before {color: black;}#sk-container-id-1 div.sk-toggleable__content {max-height: 0;max-width: 0;overflow: hidden;text-align: left;background-color: #f0f8ff;}#sk-container-id-1 div.sk-toggleable__content pre {margin: 0.2em;color: black;border-radius: 0.25em;background-color: #f0f8ff;}#sk-container-id-1 input.sk-toggleable__control:checked~div.sk-toggleable__content {max-height: 200px;max-width: 100%;overflow: auto;}#sk-container-id-1 input.sk-toggleable__control:checked~label.sk-toggleable__label-arrow:before {content: \"▾\";}#sk-container-id-1 div.sk-estimator input.sk-toggleable__control:checked~label.sk-toggleable__label {background-color: #d4ebff;}#sk-container-id-1 div.sk-label input.sk-toggleable__control:checked~label.sk-toggleable__label {background-color: #d4ebff;}#sk-container-id-1 input.sk-hidden--visually {border: 0;clip: rect(1px 1px 1px 1px);clip: rect(1px, 1px, 1px, 1px);height: 1px;margin: -1px;overflow: hidden;padding: 0;position: absolute;width: 1px;}#sk-container-id-1 div.sk-estimator {font-family: monospace;background-color: #f0f8ff;border: 1px dotted black;border-radius: 0.25em;box-sizing: border-box;margin-bottom: 0.5em;}#sk-container-id-1 div.sk-estimator:hover {background-color: #d4ebff;}#sk-container-id-1 div.sk-parallel-item::after {content: \"\";width: 100%;border-bottom: 1px solid gray;flex-grow: 1;}#sk-container-id-1 div.sk-label:hover label.sk-toggleable__label {background-color: #d4ebff;}#sk-container-id-1 div.sk-serial::before {content: \"\";position: absolute;border-left: 1px solid gray;box-sizing: border-box;top: 0;bottom: 0;left: 50%;z-index: 0;}#sk-container-id-1 div.sk-serial {display: flex;flex-direction: column;align-items: center;background-color: white;padding-right: 0.2em;padding-left: 0.2em;position: relative;}#sk-container-id-1 div.sk-item {position: relative;z-index: 1;}#sk-container-id-1 div.sk-parallel {display: flex;align-items: stretch;justify-content: center;background-color: white;position: relative;}#sk-container-id-1 div.sk-item::before, #sk-container-id-1 div.sk-parallel-item::before {content: \"\";position: absolute;border-left: 1px solid gray;box-sizing: border-box;top: 0;bottom: 0;left: 50%;z-index: -1;}#sk-container-id-1 div.sk-parallel-item {display: flex;flex-direction: column;z-index: 1;position: relative;background-color: white;}#sk-container-id-1 div.sk-parallel-item:first-child::after {align-self: flex-end;width: 50%;}#sk-container-id-1 div.sk-parallel-item:last-child::after {align-self: flex-start;width: 50%;}#sk-container-id-1 div.sk-parallel-item:only-child::after {width: 0;}#sk-container-id-1 div.sk-dashed-wrapped {border: 1px dashed gray;margin: 0 0.4em 0.5em 0.4em;box-sizing: border-box;padding-bottom: 0.4em;background-color: white;}#sk-container-id-1 div.sk-label label {font-family: monospace;font-weight: bold;display: inline-block;line-height: 1.2em;}#sk-container-id-1 div.sk-label-container {text-align: center;}#sk-container-id-1 div.sk-container {/* jupyter's `normalize.less` sets `[hidden] { display: none; }` but bootstrap.min.css set `[hidden] { display: none !important; }` so we also need the `!important` here to be able to override the default hidden behavior on the sphinx rendered scikit-learn.org. See: https://github.com/scikit-learn/scikit-learn/issues/21755 */display: inline-block !important;position: relative;}#sk-container-id-1 div.sk-text-repr-fallback {display: none;}</style><div id=\"sk-container-id-1\" class=\"sk-top-container\"><div class=\"sk-text-repr-fallback\"><pre>DecisionTreeClassifier(criterion=&#x27;entropy&#x27;, max_depth=3, min_samples_leaf=5,\n",
       "                       random_state=42)</pre><b>In a Jupyter environment, please rerun this cell to show the HTML representation or trust the notebook. <br />On GitHub, the HTML representation is unable to render, please try loading this page with nbviewer.org.</b></div><div class=\"sk-container\" hidden><div class=\"sk-item\"><div class=\"sk-estimator sk-toggleable\"><input class=\"sk-toggleable__control sk-hidden--visually\" id=\"sk-estimator-id-1\" type=\"checkbox\" checked><label for=\"sk-estimator-id-1\" class=\"sk-toggleable__label sk-toggleable__label-arrow\">DecisionTreeClassifier</label><div class=\"sk-toggleable__content\"><pre>DecisionTreeClassifier(criterion=&#x27;entropy&#x27;, max_depth=3, min_samples_leaf=5,\n",
       "                       random_state=42)</pre></div></div></div></div></div>"
      ],
      "text/plain": [
       "DecisionTreeClassifier(criterion='entropy', max_depth=3, min_samples_leaf=5,\n",
       "                       random_state=42)"
      ]
     },
     "execution_count": 15,
     "metadata": {},
     "output_type": "execute_result"
    }
   ],
   "source": [
    "clf_entropy=DecisionTreeClassifier(criterion=\"entropy\",random_state=42,max_depth=3,min_samples_leaf=5)\n",
    "clf_entropy.fit(X_train,Y_train)"
   ]
  },
  {
   "cell_type": "code",
   "execution_count": 16,
   "id": "9aefb1bc-bcfe-4f9c-8ea4-96114d7fe4d3",
   "metadata": {},
   "outputs": [
    {
     "data": {
      "text/plain": [
       "array([1, 1, 2, 6, 1, 6, 2, 6, 2, 1, 1, 1, 1, 4, 3, 1, 6, 2, 6, 1, 2, 3,\n",
       "       1, 2, 1, 2, 2, 6, 1, 4], dtype=int64)"
      ]
     },
     "execution_count": 16,
     "metadata": {},
     "output_type": "execute_result"
    }
   ],
   "source": [
    "y_pred_en=clf_entropy.predict(X_test)\n",
    "y_pred_en"
   ]
  },
  {
   "cell_type": "code",
   "execution_count": 17,
   "id": "5c683a58-f2f4-43e8-9610-08855c790a0a",
   "metadata": {},
   "outputs": [
    {
     "name": "stdout",
     "output_type": "stream",
     "text": [
      "accuracy is 83.33333333333334\n"
     ]
    }
   ],
   "source": [
    "print((\"accuracy is\"),accuracy_score(Y_test,y_pred_en)*100)"
   ]
  },
  {
   "cell_type": "code",
   "execution_count": null,
   "id": "4411bf2b-32ab-40b8-b6fe-e438e38e581b",
   "metadata": {},
   "outputs": [],
   "source": []
  }
 ],
 "metadata": {
  "kernelspec": {
   "display_name": "Python 3 (ipykernel)",
   "language": "python",
   "name": "python3"
  },
  "language_info": {
   "codemirror_mode": {
    "name": "ipython",
    "version": 3
   },
   "file_extension": ".py",
   "mimetype": "text/x-python",
   "name": "python",
   "nbconvert_exporter": "python",
   "pygments_lexer": "ipython3",
   "version": "3.11.5"
  }
 },
 "nbformat": 4,
 "nbformat_minor": 5
}
