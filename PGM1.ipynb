{
 "cells": [
  {
   "cell_type": "code",
   "execution_count": 18,
   "id": "f1d6962e-6bb8-411d-8dca-fbfea8034870",
   "metadata": {},
   "outputs": [],
   "source": [
    "import pandas as pd\n",
    "import numpy as np\n",
    "import math\n"
   ]
  },
  {
   "cell_type": "code",
   "execution_count": 9,
   "id": "47ae5a17-eecc-4a72-bb95-1d68e1b6f669",
   "metadata": {},
   "outputs": [],
   "source": [
    "x= [115.3, 195.5, 120.5, 110.2, 90.4,\n",
    "       105.6, 110.9, 116.3, 122.3, 125.4, 122.3]\n"
   ]
  },
  {
   "cell_type": "code",
   "execution_count": 10,
   "id": "04e487e7-572b-41ac-b43b-70e1381635e3",
   "metadata": {},
   "outputs": [
    {
     "name": "stdout",
     "output_type": "stream",
     "text": [
      "[115.3, 195.5, 120.5, 110.2, 90.4, 105.6, 110.9, 116.3, 122.3, 125.4, 122.3]\n"
     ]
    }
   ],
   "source": [
    "print(x)"
   ]
  },
  {
   "cell_type": "code",
   "execution_count": 11,
   "id": "a0b83e0f-5037-4a90-ac59-9811d28bf8fd",
   "metadata": {},
   "outputs": [
    {
     "name": "stdout",
     "output_type": "stream",
     "text": [
      "121.33636363636364\n"
     ]
    }
   ],
   "source": [
    "s=0\n",
    "n=len(x)\n",
    "for i in range(n):\n",
    "    s=s+x[i]\n",
    "mean=s/n\n",
    "print(mean)"
   ]
  },
  {
   "cell_type": "code",
   "execution_count": 16,
   "id": "8051fbd0-f2a5-4068-9fc3-33ea2236efa5",
   "metadata": {},
   "outputs": [
    {
     "name": "stdout",
     "output_type": "stream",
     "text": [
      "116.3\n"
     ]
    }
   ],
   "source": [
    "\n",
    "x.sort()\n",
    "if n%2==0:\n",
    "    median1=x[n//2]\n",
    "    median2=x[n//2-1]\n",
    "    median=(median1+median2)/2\n",
    "else:\n",
    "    median=x[n//2]\n",
    "print(median)"
   ]
  },
  {
   "cell_type": "code",
   "execution_count": 20,
   "id": "5deb1d22-2af6-4e0e-b5e2-0dde3afcfc77",
   "metadata": {},
   "outputs": [],
   "source": [
    "def mode(x):\n",
    "    frequency = {}\n",
    "    for number in x:\n",
    "        frequency.setdefault(number, 0)\n",
    "        frequency[number] += 1\n",
    "\n",
    "    highest_freq = max(frequency.values())\n",
    "    highest_freq_list = []\n",
    "    for number, freq in frequency.items():\n",
    "        if freq == highest_freq:\n",
    "            highest_freq_list.append(number)\n",
    "    print(highest_freq_list)"
   ]
  },
  {
   "cell_type": "code",
   "execution_count": 21,
   "id": "4944aeda-29b5-4fb5-8c65-a93ec9a4151c",
   "metadata": {},
   "outputs": [
    {
     "name": "stdout",
     "output_type": "stream",
     "text": [
      "[122.3]\n"
     ]
    }
   ],
   "source": [
    "mode(x)"
   ]
  },
  {
   "cell_type": "code",
   "execution_count": 23,
   "id": "f0abf6c6-46fe-4407-8d53-1d1ef38ff552",
   "metadata": {},
   "outputs": [],
   "source": [
    "def sd(x):\n",
    "    length = len(x)\n",
    "    mean = sum(x)/length\n",
    "    dev = [pow(val-mean, 2) for val in x]\n",
    "    variance = sum(dev)/length\n",
    "    sdv = math.sqrt(variance)\n",
    "    return sdv\n",
    "    #print(\"standard deviation \",sdv)\n",
    "    #print(\"variance \",variance)"
   ]
  },
  {
   "cell_type": "code",
   "execution_count": 24,
   "id": "a62979da-27be-4ac8-bd52-b5d095dcf8d7",
   "metadata": {},
   "outputs": [
    {
     "data": {
      "text/plain": [
       "25.260003337193787"
      ]
     },
     "execution_count": 24,
     "metadata": {},
     "output_type": "execute_result"
    }
   ],
   "source": [
    "sd(x)"
   ]
  },
  {
   "cell_type": "code",
   "execution_count": 26,
   "id": "a5c5fc22-c52b-4128-9b7f-ae4675c388d7",
   "metadata": {},
   "outputs": [],
   "source": [
    "def standardization(x):\n",
    "    length = len(x)\n",
    "    mean = sum(x)/length\n",
    "    dev = [pow(val-mean, 2) for val in x]\n",
    "    variance = sum(dev)/length\n",
    "    sdv = math.sqrt(variance)\n",
    "    standard = []\n",
    "    for x in ar:\n",
    "        calc = (x-mean)/sdv\n",
    "        standard.append(calc)\n",
    "    print(standard)\n"
   ]
  },
  {
   "cell_type": "code",
   "execution_count": 28,
   "id": "ba8d9a74-1e11-48db-b31e-c3691663cd6c",
   "metadata": {},
   "outputs": [
    {
     "name": "stdout",
     "output_type": "stream",
     "text": [
      "[-0.23896923352640445, 2.9360105528741176, -0.033110195006669736, -0.44086944438229775, -1.2247173218228256, -0.6229755169189863, -0.4131576507354103, -0.19938095688799395, 0.03814870294246905, 0.1608723605215419, 0.03814870294246905]\n"
     ]
    }
   ],
   "source": [
    " standardization(x)"
   ]
  },
  {
   "cell_type": "code",
   "execution_count": 33,
   "id": "689649aa-4590-4e60-853d-52be3ccad7c1",
   "metadata": {},
   "outputs": [],
   "source": [
    "def normalization(x):\n",
    "    max_arr = max(x)\n",
    "    min_arr = min(x)\n",
    "    normal = []\n",
    "    for x in ar:\n",
    "        calc = (x-min_arr)/(max_arr-min_arr)\n",
    "        normal.append(calc)\n",
    "    print(normal)\n",
    "     \n"
   ]
  },
  {
   "cell_type": "code",
   "execution_count": 34,
   "id": "ec0dce39-9eb0-467f-bb2e-6fc68c3ba192",
   "metadata": {},
   "outputs": [
    {
     "name": "stdout",
     "output_type": "stream",
     "text": [
      "[0.23691722169362506, 1.0, 0.2863939105613701, 0.18839200761179828, 0.0, 0.14462416745956222, 0.1950523311132255, 0.24643196955280677, 0.3035204567078972, 0.3330161750713606, 0.3035204567078972]\n"
     ]
    }
   ],
   "source": [
    " normalization(x)"
   ]
  },
  {
   "cell_type": "code",
   "execution_count": null,
   "id": "e78f3a37-e8e4-4714-89c7-501c56a9155c",
   "metadata": {},
   "outputs": [],
   "source": []
  }
 ],
 "metadata": {
  "kernelspec": {
   "display_name": "Python 3 (ipykernel)",
   "language": "python",
   "name": "python3"
  },
  "language_info": {
   "codemirror_mode": {
    "name": "ipython",
    "version": 3
   },
   "file_extension": ".py",
   "mimetype": "text/x-python",
   "name": "python",
   "nbconvert_exporter": "python",
   "pygments_lexer": "ipython3",
   "version": "3.11.5"
  }
 },
 "nbformat": 4,
 "nbformat_minor": 5
}
