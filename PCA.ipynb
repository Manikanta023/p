{
 "cells": [
  {
   "cell_type": "code",
   "execution_count": 2,
   "id": "88dd7113-5dc9-4bfe-b704-dfbd7e6e746f",
   "metadata": {},
   "outputs": [],
   "source": [
    "import numpy as np\n",
    "import pandas as pd\n",
    "import matplotlib.pyplot as plt\n",
    "import seaborn as sns\n",
    "from sklearn.preprocessing import StandardScaler\n"
   ]
  },
  {
   "cell_type": "code",
   "execution_count": 4,
   "id": "557aab68-93b3-4e23-9a72-a0d307275932",
   "metadata": {},
   "outputs": [
    {
     "name": "stdout",
     "output_type": "stream",
     "text": [
      "     sepal length  sepal width  petal length  petal width  species\n",
      "0             5.1          3.5           1.4          0.2        1\n",
      "1             4.9          3.0           1.4          0.2        1\n",
      "2             4.7          3.2           1.3          0.2        1\n",
      "3             4.6          3.1           1.5          0.2        1\n",
      "4             5.0          3.6           1.4          0.2        1\n",
      "..            ...          ...           ...          ...      ...\n",
      "145           6.7          3.0           5.2          2.3        3\n",
      "146           6.3          2.5           5.0          1.9        3\n",
      "147           6.5          3.0           5.2          2.0        3\n",
      "148           6.2          3.4           5.4          2.3        3\n",
      "149           5.9          3.0           5.1          1.8        3\n",
      "\n",
      "[150 rows x 5 columns]\n"
     ]
    }
   ],
   "source": [
    "df= pd.read_csv('pca.csv')\n",
    "print(df)"
   ]
  },
  {
   "cell_type": "code",
   "execution_count": 5,
   "id": "7ecf086f-49c0-43e2-80e7-042ce4aff4ae",
   "metadata": {},
   "outputs": [
    {
     "name": "stdout",
     "output_type": "stream",
     "text": [
      "     sepal length  sepal width  petal length  petal width  species\n",
      "0             5.1          3.5           1.4          0.2        1\n",
      "1             4.9          3.0           1.4          0.2        1\n",
      "2             4.7          3.2           1.3          0.2        1\n",
      "3             4.6          3.1           1.5          0.2        1\n",
      "4             5.0          3.6           1.4          0.2        1\n",
      "..            ...          ...           ...          ...      ...\n",
      "145           6.7          3.0           5.2          2.3        3\n",
      "146           6.3          2.5           5.0          1.9        3\n",
      "147           6.5          3.0           5.2          2.0        3\n",
      "148           6.2          3.4           5.4          2.3        3\n",
      "149           5.9          3.0           5.1          1.8        3\n",
      "\n",
      "[150 rows x 5 columns]\n"
     ]
    }
   ],
   "source": [
    "print(df)\n"
   ]
  },
  {
   "cell_type": "code",
   "execution_count": 7,
   "id": "627fbe54-31ae-4631-8138-e36d200abfac",
   "metadata": {},
   "outputs": [
    {
     "data": {
      "text/plain": [
       "array([[-0.90068117,  1.01900435, -1.34022653, -1.3154443 ],\n",
       "       [-1.14301691, -0.13197948, -1.34022653, -1.3154443 ],\n",
       "       [-1.38535265,  0.32841405, -1.39706395, -1.3154443 ],\n",
       "       [-1.50652052,  0.09821729, -1.2833891 , -1.3154443 ],\n",
       "       [-1.02184904,  1.24920112, -1.34022653, -1.3154443 ]])"
      ]
     },
     "execution_count": 7,
     "metadata": {},
     "output_type": "execute_result"
    }
   ],
   "source": [
    "X = df.drop(['species'],axis=1)\n",
    "X_scaled = StandardScaler().fit_transform(X)\n",
    "X_scaled[:5]"
   ]
  },
  {
   "cell_type": "code",
   "execution_count": 8,
   "id": "0a4f4303-9575-4fab-be32-9cf313af7ff5",
   "metadata": {},
   "outputs": [
    {
     "data": {
      "text/plain": [
       "0    1\n",
       "1    1\n",
       "2    1\n",
       "3    1\n",
       "4    1\n",
       "Name: species, dtype: int64"
      ]
     },
     "execution_count": 8,
     "metadata": {},
     "output_type": "execute_result"
    }
   ],
   "source": [
    "y=df['species']\n",
    "y.head()\n"
   ]
  },
  {
   "cell_type": "code",
   "execution_count": 9,
   "id": "a288d9b5-a9fe-4619-a1fb-083e3a00b5e0",
   "metadata": {},
   "outputs": [
    {
     "data": {
      "text/plain": [
       "array([[ 1.00671141, -0.11835884,  0.87760447,  0.82343066],\n",
       "       [-0.11835884,  1.00671141, -0.43131554, -0.36858315],\n",
       "       [ 0.87760447, -0.43131554,  1.00671141,  0.96932762],\n",
       "       [ 0.82343066, -0.36858315,  0.96932762,  1.00671141]])"
      ]
     },
     "execution_count": 9,
     "metadata": {},
     "output_type": "execute_result"
    }
   ],
   "source": [
    "features = X_scaled.T\n",
    "cov_matrix = np.cov(features)\n",
    "cov_matrix[:5]"
   ]
  },
  {
   "cell_type": "code",
   "execution_count": 10,
   "id": "cc626b3d-47dd-4710-b985-2db3fce9adea",
   "metadata": {},
   "outputs": [
    {
     "data": {
      "text/plain": [
       "array([2.93808505, 0.9201649 , 0.14774182, 0.02085386])"
      ]
     },
     "execution_count": 10,
     "metadata": {},
     "output_type": "execute_result"
    }
   ],
   "source": [
    "values, vectors = np.linalg.eig(cov_matrix)\n",
    "values[:5]"
   ]
  },
  {
   "cell_type": "code",
   "execution_count": 11,
   "id": "0e598cdb-5c1f-45a2-a228-397c0cef9d5a",
   "metadata": {},
   "outputs": [
    {
     "data": {
      "text/plain": [
       "array([[ 0.52106591, -0.37741762, -0.71956635,  0.26128628],\n",
       "       [-0.26934744, -0.92329566,  0.24438178, -0.12350962],\n",
       "       [ 0.5804131 , -0.02449161,  0.14212637, -0.80144925],\n",
       "       [ 0.56485654, -0.06694199,  0.63427274,  0.52359713]])"
      ]
     },
     "execution_count": 11,
     "metadata": {},
     "output_type": "execute_result"
    }
   ],
   "source": [
    "vectors[:5]\n"
   ]
  },
  {
   "cell_type": "code",
   "execution_count": 14,
   "id": "f42db0b5-7423-48ac-a9d5-138eacc4fd4e",
   "metadata": {},
   "outputs": [],
   "source": [
    "explained_variances = []\n",
    "for i in range(len(values)):\n",
    "    explained_variances.append((values[i] / np.sum(values))*100)\n"
   ]
  },
  {
   "cell_type": "code",
   "execution_count": 15,
   "id": "0eca7d63-6f54-412f-8691-751fd2495cc7",
   "metadata": {},
   "outputs": [
    {
     "name": "stdout",
     "output_type": "stream",
     "text": [
      "variances of each feature [72.96244541329987, 22.850761786701774, 3.668921889282877, 0.51787091071548]\n"
     ]
    }
   ],
   "source": [
    "print(\"variances of each feature\",explained_variances)\n"
   ]
  },
  {
   "cell_type": "code",
   "execution_count": 16,
   "id": "ef3699c2-cf91-429e-a75d-55d1f12d593c",
   "metadata": {},
   "outputs": [
    {
     "data": {
      "text/plain": [
       "Text(0.5, 0, 'Dimensions')"
      ]
     },
     "execution_count": 16,
     "metadata": {},
     "output_type": "execute_result"
    },
    {
     "data": {
      "image/png": "[encoded data removed]",
      "text/plain": [
       "<Figure size 800x400 with 1 Axes>"
      ]
     },
     "metadata": {},
     "output_type": "display_data"
    }
   ],
   "source": [
    "plt.figure(figsize=(8,4))\n",
    "plt.bar(range(4),explained_variances, alpha=0.6)\n",
    "plt.ylabel('Percentage of explained variance')\n",
    "plt.xlabel('Dimensions')\n"
   ]
  },
  {
   "cell_type": "code",
   "execution_count": 17,
   "id": "bb0d0d98-1937-4b24-ae2a-60661bbd5dc0",
   "metadata": {},
   "outputs": [
    {
     "data": {
      "text/html": [
       "<div>\n",
       "<style scoped>\n",
       "    .dataframe tbody tr th:only-of-type {\n",
       "        vertical-align: middle;\n",
       "    }\n",
       "\n",
       "    .dataframe tbody tr th {\n",
       "        vertical-align: top;\n",
       "    }\n",
       "\n",
       "    .dataframe thead th {\n",
       "        text-align: right;\n",
       "    }\n",
       "</style>\n",
       "<table border=\"1\" class=\"dataframe\">\n",
       "  <thead>\n",
       "    <tr style=\"text-align: right;\">\n",
       "      <th></th>\n",
       "      <th>PC1</th>\n",
       "      <th>PC2</th>\n",
       "      <th>Y</th>\n",
       "    </tr>\n",
       "  </thead>\n",
       "  <tbody>\n",
       "    <tr>\n",
       "      <th>0</th>\n",
       "      <td>-2.264703</td>\n",
       "      <td>-0.480027</td>\n",
       "      <td>1</td>\n",
       "    </tr>\n",
       "    <tr>\n",
       "      <th>1</th>\n",
       "      <td>-2.080961</td>\n",
       "      <td>0.674134</td>\n",
       "      <td>1</td>\n",
       "    </tr>\n",
       "    <tr>\n",
       "      <th>2</th>\n",
       "      <td>-2.364229</td>\n",
       "      <td>0.341908</td>\n",
       "      <td>1</td>\n",
       "    </tr>\n",
       "    <tr>\n",
       "      <th>3</th>\n",
       "      <td>-2.299384</td>\n",
       "      <td>0.597395</td>\n",
       "      <td>1</td>\n",
       "    </tr>\n",
       "    <tr>\n",
       "      <th>4</th>\n",
       "      <td>-2.389842</td>\n",
       "      <td>-0.646835</td>\n",
       "      <td>1</td>\n",
       "    </tr>\n",
       "  </tbody>\n",
       "</table>\n",
       "</div>"
      ],
      "text/plain": [
       "        PC1       PC2  Y\n",
       "0 -2.264703 -0.480027  1\n",
       "1 -2.080961  0.674134  1\n",
       "2 -2.364229  0.341908  1\n",
       "3 -2.299384  0.597395  1\n",
       "4 -2.389842 -0.646835  1"
      ]
     },
     "execution_count": 17,
     "metadata": {},
     "output_type": "execute_result"
    }
   ],
   "source": [
    "projected_1 = X_scaled.dot(vectors.T[0])\n",
    "projected_2 = X_scaled.dot(vectors.T[1])\n",
    "res = pd.DataFrame(projected_1, columns=['PC1'])\n",
    "res['PC2'] = projected_2\n",
    "res['Y'] = y\n",
    "res.head()\n"
   ]
  },
  {
   "cell_type": "code",
   "execution_count": 21,
   "id": "69349e9e-655a-431d-85af-d785b678fc83",
   "metadata": {},
   "outputs": [
    {
     "data": {
      "image/png": "[encoded data removed]",
      "text/plain": [
       "<Figure size 600x600 with 1 Axes>"
      ]
     },
     "metadata": {},
     "output_type": "display_data"
    }
   ],
   "source": [
    "sns.FacetGrid(res, hue=\"Y\", height=6).map(plt.scatter, 'PC1','PC2')\n",
    "plt.show()\n"
   ]
  },
  {
   "cell_type": "code",
   "execution_count": null,
   "id": "f839215f-502c-46a4-92f8-0d0e3fcde189",
   "metadata": {},
   "outputs": [],
   "source": []
  }
 ],
 "metadata": {
  "kernelspec": {
   "display_name": "Python 3 (ipykernel)",
   "language": "python",
   "name": "python3"
  },
  "language_info": {
   "codemirror_mode": {
    "name": "ipython",
    "version": 3
   },
   "file_extension": ".py",
   "mimetype": "text/x-python",
   "name": "python",
   "nbconvert_exporter": "python",
   "pygments_lexer": "ipython3",
   "version": "3.11.5"
  }
 },
 "nbformat": 4,
 "nbformat_minor": 5
}
